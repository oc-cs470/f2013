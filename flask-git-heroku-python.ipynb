{
 "metadata": {
  "name": ""
 },
 "nbformat": 3,
 "nbformat_minor": 0,
 "worksheets": [
  {
   "cells": [
    {
     "cell_type": "markdown",
     "metadata": {},
     "source": [
      "Build a Simple Web App\n",
      "======================\n",
      "\n",
      "Build and deploy a simple web app using Flask, git, Heroku, and python. For the purposes of this walkthrough, the app name will be my-webapp.\n",
      "\n",
      "### Preconditions\n",
      "\n",
      "1. Install python\n",
      "2. Install virtualenv\n",
      "3. Install git\n",
      "4. Install Heroku Toolbelt and create account with ssh key\n",
      "5. Create a Github account with ssh key (optional)\n",
      "\n",
      "### Step 1: Create directories and empty files\n",
      "\n",
      "Your files should end up with the following structure:\n",
      "\n",
      "```\n",
      "/my-webapp\n",
      "    /.git\n",
      "    .gitignore\n",
      "    Procfile\n",
      "    webapp.py\n",
      "    requirements.txt\n",
      "    /static\n",
      "        style.css  # Example static file for CSS\n",
      "    /templates\n",
      "        base.html  # Example template file for a base HTML page\n",
      "```"
     ]
    },
    {
     "cell_type": "markdown",
     "metadata": {},
     "source": [
      "```\n",
      "~$ mkdir my-webapp\n",
      "~$ cd my-webapp\n",
      "~/my-webapp$ mkdir static templates\n",
      "~/my-webapp$ touch webapp.py static/style.css templates/base.html\n",
      "```"
     ]
    },
    {
     "cell_type": "markdown",
     "metadata": {},
     "source": [
      "### Step 2: Initialize virtual environment and git repo\n",
      "\n",
      "After creating a virtual environment and git repo, a simple `.gitignore` file is created using the unix/linux command line. This can also be done by editing `.gitignore` with any text editor."
     ]
    },
    {
     "cell_type": "markdown",
     "metadata": {},
     "source": [
      "```\n",
      "~/my-webapp$ echo \"Virtual Environment\"\n",
      "~/my-webapp$ virtualenv venv\n",
      "~/my-webapp$ . venv/bin/activate\n",
      "(venv)~/my-webapp$ pip install Flask gunicorn\n",
      "\n",
      "(venv)~/my-webapp$ echo \"git Repo\"\n",
      "(venv)~/my-webapp$ git init\n",
      "(venv)~/my-webapp$ echo \"*.py[cod]\" > .gitignore\n",
      "(venv)~/my-webapp$ echo \"/venv\" >> .gitignore\n",
      "(venv)~/my-webapp$ cat .gitignore\n",
      "*.py[cod]\n",
      "/venv\n",
      "```"
     ]
    },
    {
     "cell_type": "markdown",
     "metadata": {},
     "source": [
      "### Step 3: Make web app Heroku-aware\n",
      "\n",
      "A simple `Procfile` file is created using the unix/linux command line. This can also be done by editing `Procfile` with any text editor."
     ]
    },
    {
     "cell_type": "markdown",
     "metadata": {},
     "source": [
      "```\n",
      "(venv)~/my-webapp$ heroku login\n",
      "username:\n",
      "password:\n",
      "(venv)~/my-webapp$ heroku create my-webapp\n",
      "(venv)~/my-webapp$ echo \"web: gunicorn webapp:app\" > Procfile\n",
      "(venv)~/my-webapp$ pip freeze > requirements.txt\n",
      "```"
     ]
    },
    {
     "cell_type": "markdown",
     "metadata": {},
     "source": [
      "### Step 4: Make web app Github-aware (optional)\n",
      "\n",
      "The remote repo must be created at Github through the web interface before this will work."
     ]
    },
    {
     "cell_type": "markdown",
     "metadata": {},
     "source": [
      "```\n",
      "(venv)~/my-webapp$ git remote add origin git@github.com:username/my-webapp.git\n",
      "```"
     ]
    },
    {
     "cell_type": "markdown",
     "metadata": {},
     "source": [
      "### Step 5: Edit `webapp.py` to add python code\n",
      "\n",
      "This small app has a basic homepage, with the classic content.\n",
      "\n",
      "```\n",
      "from flask import Flask\n",
      "\n",
      "app = Flask(__name__)\n",
      "\n",
      "@app.route('/')\n",
      "def index():\n",
      "    return 'Hello, World!'\n",
      "\n",
      "# Include a module runner to allow local testing\n",
      "if __name__ == '__main__':\n",
      "    app.run(debug=True)  # Set to false for production\n",
      "```"
     ]
    },
    {
     "cell_type": "markdown",
     "metadata": {},
     "source": [
      "### Step 6: Deploy web app to Heroku and/or Github"
     ]
    },
    {
     "cell_type": "markdown",
     "metadata": {},
     "source": [
      "```\n",
      "(venv)~/my-webapp$ echo \"Update local repo\"\n",
      "(venv)~/my-webapp$ git add .\n",
      "(venv)~/my-webapp$ git commit -m 'Intial commit.'\n",
      "\n",
      "(venv)~/my-webapp$ git push heroku master\n",
      "\n",
      "(venv)~/my-webapp$ git push origin master\n",
      "```"
     ]
    }
   ],
   "metadata": {}
  }
 ]
}