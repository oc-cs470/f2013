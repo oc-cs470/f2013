{
 "metadata": {
  "name": ""
 },
 "nbformat": 3,
 "nbformat_minor": 0,
 "worksheets": [
  {
   "cells": [
    {
     "cell_type": "markdown",
     "metadata": {},
     "source": [
      "Templating in Flask\n",
      "===================\n",
      "\n",
      "Three important constructs to be used in helping with templates:\n",
      "\n",
      "{% BLOCK %}\n",
      "{{ EXPRESSION }}\n",
      "{# COMMENT #}\n"
     ]
    }
   ],
   "metadata": {}
  }
 ]
}